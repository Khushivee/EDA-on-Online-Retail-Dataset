{
 "cells": [
  {
   "cell_type": "markdown",
   "metadata": {},
   "source": [
    "# Project Title: Online Retail Exploratory Data Analysis with Python"
   ]
  },
  {
   "cell_type": "markdown",
   "metadata": {},
   "source": [
    "## Overview\n",
    "\n",
    "I’m a beginner learning data analysis, and I took this project from the Coursera Project Network to understand how data is used in the retail world. Through this project, I wanted to practice using Python for exploring, cleaning, and understanding data. My main goal was to see how data analysis helps in finding useful insights like customer behavior and sales trends.\n",
    "This project is a small step for me to apply what I’ve learned and build confidence in analyzing real-world data."
   ]
  },
  {
   "cell_type": "markdown",
   "metadata": {},
   "source": [
    "## Case Study\n",
    "In this project, I worked with a dataset from an online retail store that includes details about customer purchases - such as product names, quantities, prices, and dates.\n",
    "My goal was to explore and analyze this data to understand how the store performs - what products sell the most, which months bring in the highest sales, and who the most valuable customers are.\n",
    "\n",
    "While doing this, I focused on learning how to find patterns, outliers, and relationships in data through exploratory data analysis (EDA). I also created visualizations to make these insights easier to understand.\n",
    "Through this case study, I aimed to gain hands-on experience in analyzing real-world data and see how data analysis can help businesses make better decisions and improve customer satisfaction."
   ]
  },
  {
   "cell_type": "markdown",
   "metadata": {},
   "source": [
    "## Project Objectives\n",
    "1. To explore and understand the dataset by answering key questions related to sales and customer behavior.\n",
    "\n",
    "2. To gain insights that can help improve the overall performance of the online retail store.\n",
    "\n",
    "3. To share data-driven findings and simple recommendations that can support better business decisions."
   ]
  },
  {
   "cell_type": "markdown",
   "metadata": {},
   "source": [
    "## Dataset\n",
    "\n",
    "For this project, I worked with the “Online Retail” dataset, which was provided as part of the Coursera Project Network. It contains transactional data from an online retail store between 2010 and 2011. The dataset is in a .xlsx file named Online Retail.xlsx.\n",
    "\n",
    "The dataset includes the following columns:\n",
    "InvoiceNo: Invoice number of the transaction\n",
    "StockCode: Unique code of the product\n",
    "Description: Description of the product\n",
    "Quantity: Quantity of the product in the transaction\n",
    "InvoiceDate: Date and time of the transaction\n",
    "UnitPrice: Price per unit of the product\n",
    "CustomerID: Unique identifier of the customer\n",
    "Country: Country where the transaction occurred\n",
    "\n",
    "This dataset allowed me to practice data cleaning, analysis, and visualization on real-world retail data, helping me learn how to extract meaningful insights as a beginner."
   ]
  },
  {
   "cell_type": "markdown",
   "metadata": {},
   "source": [
    "## Importing Libraries"
   ]
  },
  {
   "cell_type": "code",
   "execution_count": 1,
   "metadata": {},
   "outputs": [],
   "source": [
    "import pandas as pd\n",
    "import numpy as np\n",
    "import matplotlib.pyplot as plt\n",
    "import seaborn as sna \n",
    "%matplotlib inline"
   ]
  },
  {
   "cell_type": "code",
   "execution_count": 2,
   "metadata": {},
   "outputs": [
    {
     "name": "stdout",
     "output_type": "stream",
     "text": [
      "Requirement already satisfied: openpyxl in c:\\users\\dell\\appdata\\local\\programs\\python\\python312\\lib\\site-packages (3.1.5)\n",
      "Requirement already satisfied: et-xmlfile in c:\\users\\dell\\appdata\\local\\programs\\python\\python312\\lib\\site-packages (from openpyxl) (2.0.0)\n",
      "Note: you may need to restart the kernel to use updated packages.\n"
     ]
    },
    {
     "name": "stderr",
     "output_type": "stream",
     "text": [
      "\n",
      "[notice] A new release of pip is available: 23.2.1 -> 25.2\n",
      "[notice] To update, run: python.exe -m pip install --upgrade pip\n"
     ]
    }
   ],
   "source": [
    " pip install openpyxl\n"
   ]
  },
  {
   "cell_type": "markdown",
   "metadata": {},
   "source": [
    "## Load the dataset using pandas dataframe"
   ]
  },
  {
   "cell_type": "code",
   "execution_count": 3,
   "metadata": {},
   "outputs": [
    {
     "data": {
      "text/html": [
       "<div>\n",
       "<style scoped>\n",
       "    .dataframe tbody tr th:only-of-type {\n",
       "        vertical-align: middle;\n",
       "    }\n",
       "\n",
       "    .dataframe tbody tr th {\n",
       "        vertical-align: top;\n",
       "    }\n",
       "\n",
       "    .dataframe thead th {\n",
       "        text-align: right;\n",
       "    }\n",
       "</style>\n",
       "<table border=\"1\" class=\"dataframe\">\n",
       "  <thead>\n",
       "    <tr style=\"text-align: right;\">\n",
       "      <th></th>\n",
       "      <th>InvoiceNo</th>\n",
       "      <th>StockCode</th>\n",
       "      <th>Description</th>\n",
       "      <th>Quantity</th>\n",
       "      <th>InvoiceDate</th>\n",
       "      <th>UnitPrice</th>\n",
       "      <th>CustomerID</th>\n",
       "      <th>Country</th>\n",
       "    </tr>\n",
       "  </thead>\n",
       "  <tbody>\n",
       "    <tr>\n",
       "      <th>0</th>\n",
       "      <td>536365</td>\n",
       "      <td>85123A</td>\n",
       "      <td>WHITE HANGING HEART T-LIGHT HOLDER</td>\n",
       "      <td>6</td>\n",
       "      <td>2010-12-01 08:26:00</td>\n",
       "      <td>2.55</td>\n",
       "      <td>17850.0</td>\n",
       "      <td>United Kingdom</td>\n",
       "    </tr>\n",
       "    <tr>\n",
       "      <th>1</th>\n",
       "      <td>536365</td>\n",
       "      <td>71053</td>\n",
       "      <td>WHITE METAL LANTERN</td>\n",
       "      <td>6</td>\n",
       "      <td>2010-12-01 08:26:00</td>\n",
       "      <td>3.39</td>\n",
       "      <td>17850.0</td>\n",
       "      <td>United Kingdom</td>\n",
       "    </tr>\n",
       "    <tr>\n",
       "      <th>2</th>\n",
       "      <td>536365</td>\n",
       "      <td>84406B</td>\n",
       "      <td>CREAM CUPID HEARTS COAT HANGER</td>\n",
       "      <td>8</td>\n",
       "      <td>2010-12-01 08:26:00</td>\n",
       "      <td>2.75</td>\n",
       "      <td>17850.0</td>\n",
       "      <td>United Kingdom</td>\n",
       "    </tr>\n",
       "    <tr>\n",
       "      <th>3</th>\n",
       "      <td>536365</td>\n",
       "      <td>84029G</td>\n",
       "      <td>KNITTED UNION FLAG HOT WATER BOTTLE</td>\n",
       "      <td>6</td>\n",
       "      <td>2010-12-01 08:26:00</td>\n",
       "      <td>3.39</td>\n",
       "      <td>17850.0</td>\n",
       "      <td>United Kingdom</td>\n",
       "    </tr>\n",
       "    <tr>\n",
       "      <th>4</th>\n",
       "      <td>536365</td>\n",
       "      <td>84029E</td>\n",
       "      <td>RED WOOLLY HOTTIE WHITE HEART.</td>\n",
       "      <td>6</td>\n",
       "      <td>2010-12-01 08:26:00</td>\n",
       "      <td>3.39</td>\n",
       "      <td>17850.0</td>\n",
       "      <td>United Kingdom</td>\n",
       "    </tr>\n",
       "  </tbody>\n",
       "</table>\n",
       "</div>"
      ],
      "text/plain": [
       "  InvoiceNo StockCode                          Description  Quantity  \\\n",
       "0    536365    85123A   WHITE HANGING HEART T-LIGHT HOLDER         6   \n",
       "1    536365     71053                  WHITE METAL LANTERN         6   \n",
       "2    536365    84406B       CREAM CUPID HEARTS COAT HANGER         8   \n",
       "3    536365    84029G  KNITTED UNION FLAG HOT WATER BOTTLE         6   \n",
       "4    536365    84029E       RED WOOLLY HOTTIE WHITE HEART.         6   \n",
       "\n",
       "          InvoiceDate  UnitPrice  CustomerID         Country  \n",
       "0 2010-12-01 08:26:00       2.55     17850.0  United Kingdom  \n",
       "1 2010-12-01 08:26:00       3.39     17850.0  United Kingdom  \n",
       "2 2010-12-01 08:26:00       2.75     17850.0  United Kingdom  \n",
       "3 2010-12-01 08:26:00       3.39     17850.0  United Kingdom  \n",
       "4 2010-12-01 08:26:00       3.39     17850.0  United Kingdom  "
      ]
     },
     "execution_count": 3,
     "metadata": {},
     "output_type": "execute_result"
    }
   ],
   "source": [
    "df = pd.read_excel('E:/online retail store/Online Retail.xlsx')\n",
    "df.head(5)"
   ]
  },
  {
   "cell_type": "code",
   "execution_count": 4,
   "metadata": {},
   "outputs": [
    {
     "data": {
      "text/html": [
       "<div>\n",
       "<style scoped>\n",
       "    .dataframe tbody tr th:only-of-type {\n",
       "        vertical-align: middle;\n",
       "    }\n",
       "\n",
       "    .dataframe tbody tr th {\n",
       "        vertical-align: top;\n",
       "    }\n",
       "\n",
       "    .dataframe thead th {\n",
       "        text-align: right;\n",
       "    }\n",
       "</style>\n",
       "<table border=\"1\" class=\"dataframe\">\n",
       "  <thead>\n",
       "    <tr style=\"text-align: right;\">\n",
       "      <th></th>\n",
       "      <th>InvoiceNo</th>\n",
       "      <th>StockCode</th>\n",
       "      <th>Description</th>\n",
       "      <th>Quantity</th>\n",
       "      <th>InvoiceDate</th>\n",
       "      <th>UnitPrice</th>\n",
       "      <th>CustomerID</th>\n",
       "      <th>Country</th>\n",
       "    </tr>\n",
       "  </thead>\n",
       "  <tbody>\n",
       "    <tr>\n",
       "      <th>541904</th>\n",
       "      <td>581587</td>\n",
       "      <td>22613</td>\n",
       "      <td>PACK OF 20 SPACEBOY NAPKINS</td>\n",
       "      <td>12</td>\n",
       "      <td>2011-12-09 12:50:00</td>\n",
       "      <td>0.85</td>\n",
       "      <td>12680.0</td>\n",
       "      <td>France</td>\n",
       "    </tr>\n",
       "    <tr>\n",
       "      <th>541905</th>\n",
       "      <td>581587</td>\n",
       "      <td>22899</td>\n",
       "      <td>CHILDREN'S APRON DOLLY GIRL</td>\n",
       "      <td>6</td>\n",
       "      <td>2011-12-09 12:50:00</td>\n",
       "      <td>2.10</td>\n",
       "      <td>12680.0</td>\n",
       "      <td>France</td>\n",
       "    </tr>\n",
       "    <tr>\n",
       "      <th>541906</th>\n",
       "      <td>581587</td>\n",
       "      <td>23254</td>\n",
       "      <td>CHILDRENS CUTLERY DOLLY GIRL</td>\n",
       "      <td>4</td>\n",
       "      <td>2011-12-09 12:50:00</td>\n",
       "      <td>4.15</td>\n",
       "      <td>12680.0</td>\n",
       "      <td>France</td>\n",
       "    </tr>\n",
       "    <tr>\n",
       "      <th>541907</th>\n",
       "      <td>581587</td>\n",
       "      <td>23255</td>\n",
       "      <td>CHILDRENS CUTLERY CIRCUS PARADE</td>\n",
       "      <td>4</td>\n",
       "      <td>2011-12-09 12:50:00</td>\n",
       "      <td>4.15</td>\n",
       "      <td>12680.0</td>\n",
       "      <td>France</td>\n",
       "    </tr>\n",
       "    <tr>\n",
       "      <th>541908</th>\n",
       "      <td>581587</td>\n",
       "      <td>22138</td>\n",
       "      <td>BAKING SET 9 PIECE RETROSPOT</td>\n",
       "      <td>3</td>\n",
       "      <td>2011-12-09 12:50:00</td>\n",
       "      <td>4.95</td>\n",
       "      <td>12680.0</td>\n",
       "      <td>France</td>\n",
       "    </tr>\n",
       "  </tbody>\n",
       "</table>\n",
       "</div>"
      ],
      "text/plain": [
       "       InvoiceNo StockCode                      Description  Quantity  \\\n",
       "541904    581587     22613      PACK OF 20 SPACEBOY NAPKINS        12   \n",
       "541905    581587     22899     CHILDREN'S APRON DOLLY GIRL          6   \n",
       "541906    581587     23254    CHILDRENS CUTLERY DOLLY GIRL          4   \n",
       "541907    581587     23255  CHILDRENS CUTLERY CIRCUS PARADE         4   \n",
       "541908    581587     22138    BAKING SET 9 PIECE RETROSPOT          3   \n",
       "\n",
       "               InvoiceDate  UnitPrice  CustomerID Country  \n",
       "541904 2011-12-09 12:50:00       0.85     12680.0  France  \n",
       "541905 2011-12-09 12:50:00       2.10     12680.0  France  \n",
       "541906 2011-12-09 12:50:00       4.15     12680.0  France  \n",
       "541907 2011-12-09 12:50:00       4.15     12680.0  France  \n",
       "541908 2011-12-09 12:50:00       4.95     12680.0  France  "
      ]
     },
     "execution_count": 4,
     "metadata": {},
     "output_type": "execute_result"
    }
   ],
   "source": [
    "df.tail()"
   ]
  },
  {
   "cell_type": "markdown",
   "metadata": {},
   "source": [
    "## Exploring the dataset"
   ]
  },
  {
   "cell_type": "code",
   "execution_count": 5,
   "metadata": {},
   "outputs": [
    {
     "data": {
      "text/plain": [
       "(541909, 8)"
      ]
     },
     "execution_count": 5,
     "metadata": {},
     "output_type": "execute_result"
    }
   ],
   "source": [
    "df.shape"
   ]
  },
  {
   "cell_type": "markdown",
   "metadata": {},
   "source": [
    "The dataset contains 541,909 rows and 8 columns, meaning there are over half a million transactions recorded."
   ]
  },
  {
   "cell_type": "code",
   "execution_count": 6,
   "metadata": {},
   "outputs": [
    {
     "data": {
      "text/plain": [
       "InvoiceNo              object\n",
       "StockCode              object\n",
       "Description            object\n",
       "Quantity                int64\n",
       "InvoiceDate    datetime64[ns]\n",
       "UnitPrice             float64\n",
       "CustomerID            float64\n",
       "Country                object\n",
       "dtype: object"
      ]
     },
     "execution_count": 6,
     "metadata": {},
     "output_type": "execute_result"
    }
   ],
   "source": [
    "df.dtypes"
   ]
  },
  {
   "cell_type": "markdown",
   "metadata": {},
   "source": [
    "Most columns are of type object (string), while Quantity and UnitPrice are numeric, and InvoiceDate is a datetime type - which is useful for time-based analysis."
   ]
  },
  {
   "cell_type": "code",
   "execution_count": 7,
   "metadata": {},
   "outputs": [
    {
     "data": {
      "text/plain": [
       "InvoiceNo      541909\n",
       "StockCode      541909\n",
       "Description    540455\n",
       "Quantity       541909\n",
       "InvoiceDate    541909\n",
       "UnitPrice      541909\n",
       "CustomerID     406829\n",
       "Country        541909\n",
       "dtype: int64"
      ]
     },
     "execution_count": 7,
     "metadata": {},
     "output_type": "execute_result"
    }
   ],
   "source": [
    "df.count()"
   ]
  },
  {
   "cell_type": "markdown",
   "metadata": {},
   "source": [
    "All major columns have 541,909 entries, but Description and CustomerID have fewer, indicating missing values that may need cleaning later."
   ]
  },
  {
   "cell_type": "markdown",
   "metadata": {},
   "source": [
    "## Cleaning the dataset (removing any null and duplicate values)"
   ]
  },
  {
   "cell_type": "code",
   "execution_count": 8,
   "metadata": {},
   "outputs": [
    {
     "name": "stdout",
     "output_type": "stream",
     "text": [
      "       InvoiceNo StockCode                        Description  Quantity  \\\n",
      "517       536409     21866        UNION JACK FLAG LUGGAGE TAG         1   \n",
      "527       536409     22866      HAND WARMER SCOTTY DOG DESIGN         1   \n",
      "537       536409     22900    SET 2 TEA TOWELS I LOVE LONDON          1   \n",
      "539       536409     22111       SCOTTIE DOG HOT WATER BOTTLE         1   \n",
      "555       536412     22327  ROUND SNACK BOXES SET OF 4 SKULLS         1   \n",
      "...          ...       ...                                ...       ...   \n",
      "541675    581538     22068        BLACK PIRATE TREASURE CHEST         1   \n",
      "541689    581538     23318     BOX OF 6 MINI VINTAGE CRACKERS         1   \n",
      "541692    581538     22992             REVOLVER WOODEN RULER          1   \n",
      "541699    581538     22694                       WICKER STAR          1   \n",
      "541701    581538     23343       JUMBO BAG VINTAGE CHRISTMAS          1   \n",
      "\n",
      "               InvoiceDate  UnitPrice  CustomerID         Country  \n",
      "517    2010-12-01 11:45:00       1.25     17908.0  United Kingdom  \n",
      "527    2010-12-01 11:45:00       2.10     17908.0  United Kingdom  \n",
      "537    2010-12-01 11:45:00       2.95     17908.0  United Kingdom  \n",
      "539    2010-12-01 11:45:00       4.95     17908.0  United Kingdom  \n",
      "555    2010-12-01 11:49:00       2.95     17920.0  United Kingdom  \n",
      "...                    ...        ...         ...             ...  \n",
      "541675 2011-12-09 11:34:00       0.39     14446.0  United Kingdom  \n",
      "541689 2011-12-09 11:34:00       2.49     14446.0  United Kingdom  \n",
      "541692 2011-12-09 11:34:00       1.95     14446.0  United Kingdom  \n",
      "541699 2011-12-09 11:34:00       2.10     14446.0  United Kingdom  \n",
      "541701 2011-12-09 11:34:00       2.08     14446.0  United Kingdom  \n",
      "\n",
      "[5394 rows x 8 columns]\n"
     ]
    }
   ],
   "source": [
    "duplicate_cols_df=df[df.duplicated()]\n",
    "print(duplicate_cols_df)"
   ]
  },
  {
   "cell_type": "markdown",
   "metadata": {},
   "source": [
    "The output shows that 5,394 rows are duplicates across all 8 columns."
   ]
  },
  {
   "cell_type": "code",
   "execution_count": 9,
   "metadata": {},
   "outputs": [
    {
     "name": "stdout",
     "output_type": "stream",
     "text": [
      "       InvoiceNo StockCode                          Description  Quantity  \\\n",
      "0         536365    85123A   WHITE HANGING HEART T-LIGHT HOLDER         6   \n",
      "1         536365     71053                  WHITE METAL LANTERN         6   \n",
      "2         536365    84406B       CREAM CUPID HEARTS COAT HANGER         8   \n",
      "3         536365    84029G  KNITTED UNION FLAG HOT WATER BOTTLE         6   \n",
      "4         536365    84029E       RED WOOLLY HOTTIE WHITE HEART.         6   \n",
      "...          ...       ...                                  ...       ...   \n",
      "541904    581587     22613          PACK OF 20 SPACEBOY NAPKINS        12   \n",
      "541905    581587     22899         CHILDREN'S APRON DOLLY GIRL          6   \n",
      "541906    581587     23254        CHILDRENS CUTLERY DOLLY GIRL          4   \n",
      "541907    581587     23255      CHILDRENS CUTLERY CIRCUS PARADE         4   \n",
      "541908    581587     22138        BAKING SET 9 PIECE RETROSPOT          3   \n",
      "\n",
      "               InvoiceDate  UnitPrice  CustomerID         Country  \n",
      "0      2010-12-01 08:26:00       2.55     17850.0  United Kingdom  \n",
      "1      2010-12-01 08:26:00       3.39     17850.0  United Kingdom  \n",
      "2      2010-12-01 08:26:00       2.75     17850.0  United Kingdom  \n",
      "3      2010-12-01 08:26:00       3.39     17850.0  United Kingdom  \n",
      "4      2010-12-01 08:26:00       3.39     17850.0  United Kingdom  \n",
      "...                    ...        ...         ...             ...  \n",
      "541904 2011-12-09 12:50:00       0.85     12680.0          France  \n",
      "541905 2011-12-09 12:50:00       2.10     12680.0          France  \n",
      "541906 2011-12-09 12:50:00       4.15     12680.0          France  \n",
      "541907 2011-12-09 12:50:00       4.15     12680.0          France  \n",
      "541908 2011-12-09 12:50:00       4.95     12680.0          France  \n",
      "\n",
      "[536515 rows x 8 columns]\n"
     ]
    }
   ],
   "source": [
    "print(df.drop_duplicates())"
   ]
  },
  {
   "cell_type": "markdown",
   "metadata": {},
   "source": [
    "After cleaning, the dataset now has 536,515 rows and 8 columns — meaning the duplicates have been successfully dropped."
   ]
  },
  {
   "cell_type": "code",
   "execution_count": 10,
   "metadata": {},
   "outputs": [
    {
     "name": "stdout",
     "output_type": "stream",
     "text": [
      "InvoiceNo           0\n",
      "StockCode           0\n",
      "Description      1454\n",
      "Quantity            0\n",
      "InvoiceDate         0\n",
      "UnitPrice           0\n",
      "CustomerID     135080\n",
      "Country             0\n",
      "dtype: int64\n"
     ]
    }
   ],
   "source": [
    "print(df.isnull().sum())"
   ]
  },
  {
   "cell_type": "markdown",
   "metadata": {},
   "source": [
    "The output shows:\n",
    "Description has 1,454 missing values.\n",
    "CustomerID has 135,080 missing values.\n",
    "All other columns have no missing data."
   ]
  },
  {
   "cell_type": "code",
   "execution_count": 11,
   "metadata": {},
   "outputs": [
    {
     "name": "stdout",
     "output_type": "stream",
     "text": [
      "       InvoiceNo StockCode                          Description  Quantity  \\\n",
      "0         536365    85123A   WHITE HANGING HEART T-LIGHT HOLDER         6   \n",
      "1         536365     71053                  WHITE METAL LANTERN         6   \n",
      "2         536365    84406B       CREAM CUPID HEARTS COAT HANGER         8   \n",
      "3         536365    84029G  KNITTED UNION FLAG HOT WATER BOTTLE         6   \n",
      "4         536365    84029E       RED WOOLLY HOTTIE WHITE HEART.         6   \n",
      "...          ...       ...                                  ...       ...   \n",
      "541904    581587     22613          PACK OF 20 SPACEBOY NAPKINS        12   \n",
      "541905    581587     22899         CHILDREN'S APRON DOLLY GIRL          6   \n",
      "541906    581587     23254        CHILDRENS CUTLERY DOLLY GIRL          4   \n",
      "541907    581587     23255      CHILDRENS CUTLERY CIRCUS PARADE         4   \n",
      "541908    581587     22138        BAKING SET 9 PIECE RETROSPOT          3   \n",
      "\n",
      "               InvoiceDate  UnitPrice  CustomerID         Country  \n",
      "0      2010-12-01 08:26:00       2.55     17850.0  United Kingdom  \n",
      "1      2010-12-01 08:26:00       3.39     17850.0  United Kingdom  \n",
      "2      2010-12-01 08:26:00       2.75     17850.0  United Kingdom  \n",
      "3      2010-12-01 08:26:00       3.39     17850.0  United Kingdom  \n",
      "4      2010-12-01 08:26:00       3.39     17850.0  United Kingdom  \n",
      "...                    ...        ...         ...             ...  \n",
      "541904 2011-12-09 12:50:00       0.85     12680.0          France  \n",
      "541905 2011-12-09 12:50:00       2.10     12680.0          France  \n",
      "541906 2011-12-09 12:50:00       4.15     12680.0          France  \n",
      "541907 2011-12-09 12:50:00       4.15     12680.0          France  \n",
      "541908 2011-12-09 12:50:00       4.95     12680.0          France  \n",
      "\n",
      "[406829 rows x 8 columns]\n"
     ]
    }
   ],
   "source": [
    "df = df.dropna()\n",
    "print(df)"
   ]
  },
  {
   "cell_type": "markdown",
   "metadata": {},
   "source": [
    "After this operation, the dataset size reduced to 406,829 rows and 8 columns, meaning all incomplete records were removed."
   ]
  },
  {
   "cell_type": "code",
   "execution_count": 12,
   "metadata": {},
   "outputs": [
    {
     "data": {
      "text/plain": [
       "InvoiceNo      406829\n",
       "StockCode      406829\n",
       "Description    406829\n",
       "Quantity       406829\n",
       "InvoiceDate    406829\n",
       "UnitPrice      406829\n",
       "CustomerID     406829\n",
       "Country        406829\n",
       "dtype: int64"
      ]
     },
     "execution_count": 12,
     "metadata": {},
     "output_type": "execute_result"
    }
   ],
   "source": [
    "df.count()"
   ]
  },
  {
   "cell_type": "markdown",
   "metadata": {},
   "source": [
    "After cleaning, every column now has 406,829 non-null entries, confirming that there are no remaining missing values in the dataset."
   ]
  },
  {
   "cell_type": "markdown",
   "metadata": {},
   "source": [
    "## Plotting to find and remove any outliners"
   ]
  },
  {
   "cell_type": "markdown",
   "metadata": {},
   "source": [
    "Outliers are data points that differ significantly from other observations. They can distort analysis and affect the accuracy of results, so identifying and removing them is an important step in data cleaning."
   ]
  },
  {
   "cell_type": "code",
   "execution_count": 13,
   "metadata": {},
   "outputs": [
    {
     "data": {
      "text/plain": [
       "{'whiskers': [<matplotlib.lines.Line2D at 0x227f2f96600>,\n",
       "  <matplotlib.lines.Line2D at 0x227f2f94ef0>],\n",
       " 'caps': [<matplotlib.lines.Line2D at 0x227f2f94170>,\n",
       "  <matplotlib.lines.Line2D at 0x227f2f97d10>],\n",
       " 'boxes': [<matplotlib.lines.Line2D at 0x227e6f55580>],\n",
       " 'medians': [<matplotlib.lines.Line2D at 0x227e8706750>],\n",
       " 'fliers': [<matplotlib.lines.Line2D at 0x227f2f96030>],\n",
       " 'means': []}"
      ]
     },
     "execution_count": 13,
     "metadata": {},
     "output_type": "execute_result"
    },
    {
     "data": {
      "image/png": "[encoded data removed]",
      "text/plain": [
       "<Figure size 640x480 with 1 Axes>"
      ]
     },
     "metadata": {},
     "output_type": "display_data"
    }
   ],
   "source": [
    "plt.boxplot(x=df['CustomerID'])"
   ]
  },
  {
   "cell_type": "code",
   "execution_count": 14,
   "metadata": {},
   "outputs": [
    {
     "data": {
      "text/plain": [
       "{'whiskers': [<matplotlib.lines.Line2D at 0x227f3b77a40>,\n",
       "  <matplotlib.lines.Line2D at 0x227f3b76ed0>],\n",
       " 'caps': [<matplotlib.lines.Line2D at 0x227f3b76660>,\n",
       "  <matplotlib.lines.Line2D at 0x227f3b776b0>],\n",
       " 'boxes': [<matplotlib.lines.Line2D at 0x227f3b75640>],\n",
       " 'medians': [<matplotlib.lines.Line2D at 0x227f3b77e90>],\n",
       " 'fliers': [<matplotlib.lines.Line2D at 0x227f3b77620>],\n",
       " 'means': []}"
      ]
     },
     "execution_count": 14,
     "metadata": {},
     "output_type": "execute_result"
    },
    {
     "data": {
      "image/png": "[encoded data removed]",
      "text/plain": [
       "<Figure size 640x480 with 1 Axes>"
      ]
     },
     "metadata": {},
     "output_type": "display_data"
    }
   ],
   "source": [
    "plt.boxplot(x=df['Quantity'])\n"
   ]
  },
  {
   "cell_type": "markdown",
   "metadata": {},
   "source": [
    "The plot shows that there are a few extreme values (very high and very low) beyond the whiskers, indicating the presence of outliers."
   ]
  },
  {
   "cell_type": "code",
   "execution_count": 15,
   "metadata": {},
   "outputs": [
    {
     "name": "stdout",
     "output_type": "stream",
     "text": [
      "10.0\n"
     ]
    }
   ],
   "source": [
    "Q1 = df['Quantity'].quantile(0.25)\n",
    "Q3 = df['Quantity'].quantile(0.75)\n",
    "IQR = Q3 - Q1\n",
    "print(IQR)"
   ]
  },
  {
   "cell_type": "markdown",
   "metadata": {},
   "source": [
    "Q1 and Q3 are the first and third quartiles.\n",
    "\n",
    "IQR (Interquartile Range) measures the middle 50% of the data."
   ]
  },
  {
   "cell_type": "code",
   "execution_count": 16,
   "metadata": {},
   "outputs": [
    {
     "name": "stdout",
     "output_type": "stream",
     "text": [
      "-13.0\n",
      "27.0\n"
     ]
    }
   ],
   "source": [
    "lower_bound = Q1 - 1.5 * IQR\n",
    "upper_bound = Q3 + 1.5 * IQR\n",
    "print(lower_bound)\n",
    "print(upper_bound)"
   ]
  },
  {
   "cell_type": "markdown",
   "metadata": {},
   "source": [
    "Lower and Upper Bounds define the range of normal values.\n",
    "Any value outside this range is considered an outlier."
   ]
  },
  {
   "cell_type": "code",
   "execution_count": 17,
   "metadata": {},
   "outputs": [
    {
     "data": {
      "text/plain": [
       "{'whiskers': [<matplotlib.lines.Line2D at 0x227f3b6d100>,\n",
       "  <matplotlib.lines.Line2D at 0x227f3b6d3d0>],\n",
       " 'caps': [<matplotlib.lines.Line2D at 0x227f3b6d610>,\n",
       "  <matplotlib.lines.Line2D at 0x227f3b6d8e0>],\n",
       " 'boxes': [<matplotlib.lines.Line2D at 0x227f3b6ce90>],\n",
       " 'medians': [<matplotlib.lines.Line2D at 0x227f3b6dbe0>],\n",
       " 'fliers': [<matplotlib.lines.Line2D at 0x227f3b6deb0>],\n",
       " 'means': []}"
      ]
     },
     "execution_count": 17,
     "metadata": {},
     "output_type": "execute_result"
    },
    {
     "data": {
      "image/png": "[encoded data removed]",
      "text/plain": [
       "<Figure size 640x480 with 1 Axes>"
      ]
     },
     "metadata": {},
     "output_type": "display_data"
    }
   ],
   "source": [
    "filtered_Quantity= df[(df['Quantity'] >= lower_bound) & (df['Quantity'] <= upper_bound)]\n",
    "plt.boxplot(x=filtered_Quantity['Quantity'])\n"
   ]
  },
  {
   "cell_type": "markdown",
   "metadata": {},
   "source": [
    "First remove all rows where the Quantity value lies outside the defined IQR boundaries.\n",
    "\n",
    "After removing outliers, the new boxplot shows a more balanced distribution without extreme points, confirming that the data has been successfully cleaned."
   ]
  },
  {
   "cell_type": "markdown",
   "metadata": {},
   "source": [
    "## Which Products are the Most Popular? (by Units Sold)"
   ]
  },
  {
   "cell_type": "code",
   "execution_count": 62,
   "metadata": {},
   "outputs": [
    {
     "name": "stdout",
     "output_type": "stream",
     "text": [
      "0\n"
     ]
    }
   ],
   "source": [
    "df_cleaned = df[(df['Quantity'] > 0) & (df['UnitPrice'] > 0)]\n",
    "print((df_cleaned['Quantity'] <= 0).sum())"
   ]
  },
  {
   "cell_type": "markdown",
   "metadata": {},
   "source": [
    "We first remove rows where:\n",
    "\n",
    "Quantity ≤ 0 (returns or cancelled orders)\n",
    "\n",
    "UnitPrice ≤ 0 (incorrect or missing prices)\n",
    "This ensures only valid sales are included in our analysis."
   ]
  },
  {
   "cell_type": "code",
   "execution_count": 61,
   "metadata": {},
   "outputs": [
    {
     "data": {
      "text/plain": [
       "StockCode\n",
       "85123A    2035\n",
       "22423     1723\n",
       "85099B    1618\n",
       "84879     1408\n",
       "47566     1396\n",
       "          ... \n",
       "84743C       1\n",
       "90065B       1\n",
       "90214Z       1\n",
       "84206B       1\n",
       "23843        1\n",
       "Name: count, Length: 3659, dtype: int64"
      ]
     },
     "execution_count": 61,
     "metadata": {},
     "output_type": "execute_result"
    }
   ],
   "source": [
    "code=['POST', 'M', 'DOT', 'PADS', 'C2','BANK CHARGES','CRUK', 'D']\n",
    "df_cleaned.loc[:,'StockCode']=df_cleaned['StockCode'].astype(str)\n",
    "df_cleaned=df_cleaned[~df_cleaned['StockCode'].isin(code)].copy()\n",
    "df_cleaned.loc[:,'StockCode'].value_counts()"
   ]
  },
  {
   "cell_type": "markdown",
   "metadata": {},
   "source": [
    "Some stock codes don’t represent actual products (like postage or handling charges).\n",
    "I excluded these to keep only real items."
   ]
  },
  {
   "cell_type": "code",
   "execution_count": 47,
   "metadata": {},
   "outputs": [
    {
     "name": "stdout",
     "output_type": "stream",
     "text": [
      "StockCode\n",
      "23843     80995\n",
      "23166     77858\n",
      "84077     54086\n",
      "22197     48984\n",
      "85099B    46077\n",
      "          ...  \n",
      "90152C        1\n",
      "90165B        1\n",
      "35597B        1\n",
      "35597A        1\n",
      "90178B        1\n",
      "Name: Quantity, Length: 3659, dtype: int64\n"
     ]
    }
   ],
   "source": [
    "best_seller_Quantity = df_cleaned.groupby('StockCode')['Quantity'].sum()\n",
    "best_seller_Quantity= best_seller_Quantity.sort_values(ascending=False)\n",
    "print(best_seller_Quantity)"
   ]
  },
  {
   "cell_type": "markdown",
   "metadata": {},
   "source": [
    "In this part of the analysis, the dataset was grouped by StockCode to find the total quantity sold for each product.\n",
    "The results were then sorted in descending order to identify which products had the highest number of units sold."
   ]
  },
  {
   "cell_type": "code",
   "execution_count": 48,
   "metadata": {},
   "outputs": [
    {
     "data": {
      "image/png": "[encoded data removed]",
      "text/plain": [
       "<Figure size 640x480 with 1 Axes>"
      ]
     },
     "metadata": {},
     "output_type": "display_data"
    }
   ],
   "source": [
    "best_seller_Quantity=best_seller_Quantity.reset_index()\n",
    "top_20_products_by_Quantity= best_seller_Quantity.head(20)\n",
    "plt.bar(top_20_products_by_Quantity['StockCode'].astype(str), top_20_products_by_Quantity['Quantity'])\n",
    "plt.xlabel('StockCode')\n",
    "plt.ylabel('Total Units Sold')\n",
    "plt.title('Top 20 Products by Quantity Sold')\n",
    "plt.xticks(rotation=90)\n",
    "plt.show()"
   ]
  },
  {
   "cell_type": "markdown",
   "metadata": {},
   "source": [
    "The product with StockCode 84077 has recorded the highest sales, with a total of 52,886 units sold.\n",
    "\n",
    "Following Products:\n",
    "\n",
    "StockCode 22197 sold 48,513 units\n",
    "\n",
    "StockCode 85099B sold 44,962 units\n",
    "\n",
    "These figures represent the top-performing products based on total quantity sold.\n",
    "\n",
    "**Insight**:\n",
    "\n",
    "The bar chart below displays the Top 20 Products ranked by the number of units sold.\n",
    "This visualization helps the retail store easily identify their best-selling items and make data-driven decisions, such as:\n",
    "\n",
    "- Maintaining sufficient stock of high-demand products\n",
    "- Planning promotions for moderately selling items\n",
    "- Understanding customer purchasing preferences"
   ]
  },
  {
   "cell_type": "markdown",
   "metadata": {},
   "source": [
    "## Which Products Generate the Most Revenue?"
   ]
  },
  {
   "cell_type": "code",
   "execution_count": 49,
   "metadata": {},
   "outputs": [
    {
     "name": "stdout",
     "output_type": "stream",
     "text": [
      "StockCode\n",
      "23843     168469.60\n",
      "22423     142009.75\n",
      "85123A     99373.41\n",
      "85099B     85132.03\n",
      "23166      81354.80\n",
      "            ...    \n",
      "84206B         0.95\n",
      "90084          0.85\n",
      "90104          0.85\n",
      "21268          0.84\n",
      "84227          0.42\n",
      "Name: TotalRevenue, Length: 3659, dtype: float64\n"
     ]
    }
   ],
   "source": [
    "df_cleaned['TotalRevenue']=df_cleaned['Quantity']*df_cleaned['UnitPrice']\n",
    "best_seller_Price = df_cleaned.groupby('StockCode')['TotalRevenue'].sum()\n",
    "best_seller_Price= best_seller_Price.sort_values(ascending=False)\n",
    "print(best_seller_Price)"
   ]
  },
  {
   "cell_type": "markdown",
   "metadata": {},
   "source": [
    "While quantity shows how many items were sold, revenue shows how much money each product brought in.\n",
    "To calculate this, the total revenue for each product was computed by multiplying Quantity × UnitPrice, and then grouped by StockCode."
   ]
  },
  {
   "cell_type": "code",
   "execution_count": 50,
   "metadata": {},
   "outputs": [
    {
     "data": {
      "image/png": "[encoded data removed]",
      "text/plain": [
       "<Figure size 640x480 with 1 Axes>"
      ]
     },
     "metadata": {},
     "output_type": "display_data"
    }
   ],
   "source": [
    "best_seller_Price=best_seller_Price.reset_index()\n",
    "top_20_products_Price = best_seller_Price.head(20)\n",
    "plt.bar(top_20_products_Price['StockCode'].astype(str), top_20_products_Price['TotalRevenue'])\n",
    "plt.xlabel('StockCode')\n",
    "plt.ylabel('Total Revenue')\n",
    "plt.title('Top 10 Products by Total Revenue')\n",
    "plt.xticks(rotation=90)\n",
    "plt.show()"
   ]
  },
  {
   "cell_type": "markdown",
   "metadata": {},
   "source": [
    "In the previous section, we saw that the product with StockCode 84077 was sold the most in terms of quantity.\n",
    "However, when we look at revenue instead of just sales quantity, the results are different.\n",
    "\n",
    "The product with StockCode 22423 has generated the highest total revenue of 13,2287.\n",
    "\n",
    "The product with StockCode 85123A, is in the second position for total revenue of 92,752.\n",
    "\n",
    "The product with StockCode 85099B ranks third in both quantity sold and total revenue, with around 83,149 generated.\n",
    "\n",
    "The graph below shows the top 20 products based on total revenue.\n",
    "\n",
    "**Insight**:\n",
    "\n",
    "This comparison shows that the product sold in the highest quantity is not always the one generating the most profit.\n",
    "Certain things play a role in this analysis:\n",
    "\n",
    "Higher unit prices of certain products\n",
    "\n",
    "Variations in customer demand\n",
    "\n",
    "Product value perception and pricing strategy\n",
    "\n",
    "Understanding both sales volume and revenue generation helps the business:\n",
    "\n",
    "Identify their high-value products\n",
    "\n",
    "Optimize pricing and marketing strategies for the product that are not scaling\n",
    "\n",
    "Balance between sales quantity and profitability to reach the maximum potential of the store\n"
   ]
  },
  {
   "cell_type": "markdown",
   "metadata": {},
   "source": [
    "## What Was the Best Month for Revenue Generation?"
   ]
  },
  {
   "cell_type": "code",
   "execution_count": 51,
   "metadata": {},
   "outputs": [
    {
     "name": "stdout",
     "output_type": "stream",
     "text": [
      "0        2010-12-01 08:26:00\n",
      "1        2010-12-01 08:26:00\n",
      "2        2010-12-01 08:26:00\n",
      "3        2010-12-01 08:26:00\n",
      "4        2010-12-01 08:26:00\n",
      "                 ...        \n",
      "541904   2011-12-09 12:50:00\n",
      "541905   2011-12-09 12:50:00\n",
      "541906   2011-12-09 12:50:00\n",
      "541907   2011-12-09 12:50:00\n",
      "541908   2011-12-09 12:50:00\n",
      "Name: InvoiceDate, Length: 406829, dtype: datetime64[ns]\n"
     ]
    }
   ],
   "source": [
    "df.loc[:,'InvoiceDate']=pd.to_datetime(df['InvoiceDate'])\n",
    "print(df['InvoiceDate'])"
   ]
  },
  {
   "cell_type": "code",
   "execution_count": 52,
   "metadata": {},
   "outputs": [],
   "source": [
    "df_cleaned.loc[:,'Month']= df['InvoiceDate'].dt.month\n",
    "df_cleaned.loc[:,'Year']= df['InvoiceDate'].dt.year\n",
    "df_cleaned.loc[:,'YearMonth']= df['InvoiceDate'].dt.to_period('M')"
   ]
  },
  {
   "cell_type": "markdown",
   "metadata": {},
   "source": [
    "To find out which month generated the highest total revenue, the InvoiceDate column was converted into datetime format, and separate Month and Year columns were created. Then, total revenue was calculated by grouping the data based on these columns."
   ]
  },
  {
   "cell_type": "code",
   "execution_count": 53,
   "metadata": {},
   "outputs": [
    {
     "name": "stdout",
     "output_type": "stream",
     "text": [
      "YearMonth\n",
      "2011-11    1083349.85\n",
      "2011-10    1005642.90\n",
      "2011-09     940900.81\n",
      "2011-05     660481.90\n",
      "2011-06     654432.56\n",
      "2011-08     636807.24\n",
      "2011-07     592731.90\n",
      "2011-03     584562.85\n",
      "2010-12     567490.72\n",
      "2011-01     564026.64\n",
      "2011-12     513230.43\n",
      "2011-04     455266.91\n",
      "2011-02     443346.02\n",
      "Freq: M, Name: TotalRevenue, dtype: float64\n"
     ]
    }
   ],
   "source": [
    "top_month=df_cleaned.groupby('YearMonth')['TotalRevenue'].sum()\n",
    "print(top_month.sort_values(ascending=False))"
   ]
  },
  {
   "cell_type": "code",
   "execution_count": 54,
   "metadata": {},
   "outputs": [
    {
     "data": {
      "image/png": "[encoded data removed]",
      "text/plain": [
       "<Figure size 640x480 with 1 Axes>"
      ]
     },
     "metadata": {},
     "output_type": "display_data"
    }
   ],
   "source": [
    "top_month=top_month.reset_index()\n",
    "top_20_Month_by_revenue = top_month.sort_values(by='TotalRevenue',ascending=False)\n",
    "plt.bar(top_20_Month_by_revenue['YearMonth'].astype(str), top_20_Month_by_revenue['TotalRevenue'])\n",
    "plt.xlabel('Month')\n",
    "plt.ylabel('Total Sales Revenue')\n",
    "plt.title('Total Sales Revenue by Month')\n",
    "plt.xticks(rotation=70)\n",
    "plt.show()"
   ]
  },
  {
   "cell_type": "markdown",
   "metadata": {},
   "source": [
    "From the results, it was observed that November 2011 had the highest total revenue, making it the best month for revenue generation.\n",
    "This indicates that the store earned the most money during this month, possibly due to holiday offers, festive sales, or seasonal demand.\n",
    "\n"
   ]
  },
  {
   "cell_type": "markdown",
   "metadata": {},
   "source": [
    "## Which Month Was Busiest By Highest Sales Volume? (by Total Units Sold)"
   ]
  },
  {
   "cell_type": "code",
   "execution_count": 55,
   "metadata": {},
   "outputs": [
    {
     "name": "stdout",
     "output_type": "stream",
     "text": [
      "YearMonth\n",
      "2011-11    619002\n",
      "2011-10    592291\n",
      "2011-09    544070\n",
      "2011-08    397847\n",
      "2011-05    373325\n",
      "2011-07    369113\n",
      "2011-06    363410\n",
      "2011-01    348803\n",
      "2011-03    348164\n",
      "2010-12    311840\n",
      "2011-04    291972\n",
      "2011-12    286466\n",
      "2011-02    265380\n",
      "Freq: M, Name: Quantity, dtype: int64\n"
     ]
    }
   ],
   "source": [
    "busiest_month=df_cleaned.groupby('YearMonth')['Quantity'].sum()\n",
    "print(busiest_month.sort_values(ascending=False))"
   ]
  },
  {
   "cell_type": "code",
   "execution_count": 56,
   "metadata": {},
   "outputs": [
    {
     "data": {
      "image/png": "[encoded data removed]",
      "text/plain": [
       "<Figure size 640x480 with 1 Axes>"
      ]
     },
     "metadata": {},
     "output_type": "display_data"
    }
   ],
   "source": [
    "busiest_month=busiest_month.reset_index()\n",
    "top_20_Month_by_quantity = busiest_month.sort_values(by='Quantity',ascending=False)\n",
    "plt.bar(top_20_Month_by_quantity['YearMonth'].astype(str), top_20_Month_by_quantity['Quantity'])\n",
    "plt.xlabel('Month')\n",
    "plt.ylabel('Total Quantity Sold')\n",
    "plt.title('Total Units Sold by Month')\n",
    "plt.xticks(rotation=70)\n",
    "plt.show()"
   ]
  },
  {
   "cell_type": "markdown",
   "metadata": {},
   "source": [
    "From the analysis, November 2011 also appears to be the busiest month, showing both high sales activity and high total revenue.\n",
    "This means that not only were customers spending more, but also a greater number of transactions were taking place during this time."
   ]
  },
  {
   "cell_type": "markdown",
   "metadata": {},
   "source": [
    "**Insight Summary**\n",
    "\n",
    "November 2011 recorded the highest total revenue, making it the best month for revenue generation.\n",
    "\n",
    "The next highest revenue months were October 2011 and December 2010, indicating strong sales during the festive and holiday seasons.\n",
    "\n",
    "The revenue trend suggests a seasonal pattern, where sales tend to increase towards the end of the year.\n",
    "\n",
    "These insights can help the store prepare for future high-demand months by managing inventory, marketing, and discount offers more effectively."
   ]
  },
  {
   "cell_type": "markdown",
   "metadata": {},
   "source": [
    "## Who Are the Top Revenue-Generating Customers?"
   ]
  },
  {
   "cell_type": "code",
   "execution_count": 57,
   "metadata": {},
   "outputs": [
    {
     "name": "stdout",
     "output_type": "stream",
     "text": [
      "CustomerID\n",
      "14646.0    279009.37\n",
      "18102.0    259657.30\n",
      "17450.0    193407.65\n",
      "16446.0    168472.50\n",
      "14911.0    131224.48\n",
      "             ...    \n",
      "14789.0        12.34\n",
      "15524.0         7.80\n",
      "14792.0         6.20\n",
      "16454.0         5.90\n",
      "16738.0         3.75\n",
      "Name: TotalRevenue, Length: 4334, dtype: float64\n"
     ]
    }
   ],
   "source": [
    "top_customer=df_cleaned.groupby('CustomerID')['TotalRevenue'].sum()\n",
    "top_customer=top_customer.sort_values(ascending=False)\n",
    "print(top_customer)"
   ]
  },
  {
   "cell_type": "markdown",
   "metadata": {},
   "source": [
    "In this analysis, the total revenue generated by each customer was calculated by grouping the data based on their Customer ID.\n",
    "The results were then sorted in descending order to identify the top 20 customers who contributed the most to the store’s total revenue."
   ]
  },
  {
   "cell_type": "code",
   "execution_count": 58,
   "metadata": {},
   "outputs": [
    {
     "data": {
      "image/png": "[encoded data removed]",
      "text/plain": [
       "<Figure size 640x480 with 1 Axes>"
      ]
     },
     "metadata": {},
     "output_type": "display_data"
    }
   ],
   "source": [
    "top_customer=top_customer.reset_index()\n",
    "top_20_Customer = top_customer.head(20)\n",
    "top_20_Customer = top_20_Customer.sort_values(by='TotalRevenue',ascending=False)\n",
    "plt.bar(top_20_Customer['CustomerID'].astype(str), top_20_Customer['TotalRevenue'])\n",
    "plt.xlabel('CustomerID')\n",
    "plt.ylabel('Total Revenue')\n",
    "plt.title('Total Revenue per Customer (Top 20)')\n",
    "plt.xticks(rotation=90)\n",
    "plt.show()"
   ]
  },
  {
   "cell_type": "markdown",
   "metadata": {},
   "source": [
    "From the results, we can see that the customer with CustomerID 14646 has generated the highest total revenue, followed by customers 18102 and 17450.\n",
    "This shows that a small number of customers are responsible for a significant portion of the store’s earnings.\n",
    "\n",
    "The bar chart below clearly represents the top 20 revenue-generating customers, showing how much each of them contributed to the total revenue."
   ]
  },
  {
   "cell_type": "markdown",
   "metadata": {},
   "source": [
    "**Key Insights**:\n",
    "\n",
    "CustomerID 14646 is the top revenue generator, contributing the most to the overall sales.\n",
    "\n",
    "A few high-value customers bring in a large share of the revenue, showing the importance of customer retention and loyalty programs.\n",
    "\n",
    "Some customers have negative or very low revenue, which may indicate returns or cancellations.\n",
    "\n",
    "Understanding top customers helps the business focus on personalized offers, exclusive discounts, and relationship management to maintain long-term profitability."
   ]
  },
  {
   "cell_type": "markdown",
   "metadata": {},
   "source": [
    "## Which Countries Generate the Most Revenue?"
   ]
  },
  {
   "cell_type": "code",
   "execution_count": 59,
   "metadata": {},
   "outputs": [
    {
     "name": "stdout",
     "output_type": "stream",
     "text": [
      "Country\n",
      "United Kingdom          7216518.33\n",
      "Netherlands              283760.69\n",
      "EIRE                     251972.93\n",
      "Germany                  203070.42\n",
      "France                   182236.41\n",
      "Australia                138881.01\n",
      "Spain                     55437.67\n",
      "Switzerland               52292.98\n",
      "Sweden                    37497.70\n",
      "Japan                     37416.37\n",
      "Belgium                   36927.34\n",
      "Norway                    32454.64\n",
      "Portugal                  26397.02\n",
      "Channel Islands           20007.44\n",
      "Finland                   18305.14\n",
      "Denmark                   18211.34\n",
      "Italy                     15820.24\n",
      "Cyprus                    13254.69\n",
      "Singapore                  9120.39\n",
      "Austria                    8316.69\n",
      "Israel                     7221.69\n",
      "Poland                     6974.65\n",
      "Greece                     4425.52\n",
      "Iceland                    4310.00\n",
      "USA                        3580.39\n",
      "Canada                     3115.44\n",
      "Unspecified                2667.07\n",
      "Malta                      2070.59\n",
      "United Arab Emirates       1864.78\n",
      "Lebanon                    1693.88\n",
      "Lithuania                  1661.06\n",
      "European Community         1159.25\n",
      "Brazil                     1143.60\n",
      "RSA                        1002.31\n",
      "Czech Republic              786.74\n",
      "Bahrain                     548.40\n",
      "Saudi Arabia                145.92\n",
      "Name: TotalRevenue, dtype: float64\n"
     ]
    }
   ],
   "source": [
    "top_countries= df_cleaned.groupby('Country')['TotalRevenue'].sum()\n",
    "top_countries=top_countries.sort_values(ascending=False)\n",
    "print(top_countries)"
   ]
  },
  {
   "cell_type": "markdown",
   "metadata": {},
   "source": [
    "In this part of the analysis, the dataset was grouped by Country to calculate the total revenue generated by each one. The results were then sorted in descending order to identify which countries contribute the most to overall sales."
   ]
  },
  {
   "cell_type": "code",
   "execution_count": 60,
   "metadata": {},
   "outputs": [
    {
     "data": {
      "image/png": "[encoded data removed]",
      "text/plain": [
       "<Figure size 640x480 with 1 Axes>"
      ]
     },
     "metadata": {},
     "output_type": "display_data"
    }
   ],
   "source": [
    "top_countries=top_countries.reset_index()\n",
    "top_20_Countries = top_countries.head(20)\n",
    "top_20_Countries = top_20_Countries.sort_values(by='TotalRevenue',ascending=False)\n",
    "plt.bar(top_20_Countries['Country'].astype(str), top_20_Countries['TotalRevenue'])\n",
    "plt.xlabel('Countries')\n",
    "plt.ylabel('Total Revenue')\n",
    "plt.title('Top Revenue Generated by Countries (Top 20)')\n",
    "plt.xticks(rotation=90)\n",
    "plt.yscale('log')\n",
    "plt.show()"
   ]
  },
  {
   "cell_type": "markdown",
   "metadata": {},
   "source": [
    "From the results, it can be seen that:\n",
    "\n",
    "United Kingdom generated the highest total revenue of 5,749,250.29, making it the most profitable market for the store.\n",
    "\n",
    "Netherlands stands second with a total revenue of 283,256.29.\n",
    "\n",
    "EIRE (Ireland) follows in third position with 263,276.00.\n",
    "\n",
    "The bar chart below displays the Top 20 Revenue-Generating Countries, showing how different regions contribute to the company’s earnings."
   ]
  },
  {
   "cell_type": "markdown",
   "metadata": {},
   "source": [
    "**Key Insights**:\n",
    "\n",
    "The United Kingdom dominates sales by a large margin, which makes sense since it is likely the store’s main operating country.\n",
    "\n",
    "European countries like the Netherlands, EIRE, and Germany also show strong sales, suggesting a significant international customer base.\n",
    "\n",
    "Countries with lower revenues may indicate limited market reach or less frequent orders, providing opportunities for future expansion.\n",
    "\n",
    "Focusing marketing efforts on top-performing regions while improving visibility in low-performing countries could help increase global revenue."
   ]
  }
 ],
 "metadata": {
  "kernelspec": {
   "display_name": "Python 3.12",
   "language": "python",
   "name": "python312"
  },
  "language_info": {
   "codemirror_mode": {
    "name": "ipython",
    "version": 3
   },
   "file_extension": ".py",
   "mimetype": "text/x-python",
   "name": "python",
   "nbconvert_exporter": "python",
   "pygments_lexer": "ipython3",
   "version": "3.12.0"
  }
 },
 "nbformat": 4,
 "nbformat_minor": 4
}
